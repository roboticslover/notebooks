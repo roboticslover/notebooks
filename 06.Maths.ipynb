{
  "nbformat": 4,
  "nbformat_minor": 0,
  "metadata": {
    "colab": {
      "provenance": []
    },
    "kernelspec": {
      "name": "python3",
      "display_name": "Python 3"
    },
    "language_info": {
      "name": "python"
    }
  },
  "cells": [
    {
      "cell_type": "markdown",
      "source": [
        "***"
      ],
      "metadata": {
        "id": "Zm0uIAzCsBOX"
      }
    },
    {
      "cell_type": "markdown",
      "source": [
        "#[1.]Vectors"
      ],
      "metadata": {
        "id": "Ks1Z6D5QsD-w"
      }
    },
    {
      "cell_type": "code",
      "execution_count": 48,
      "metadata": {
        "id": "Q6kMeQ9JQwLY"
      },
      "outputs": [],
      "source": [
        "import numpy as np\n",
        "import matplotlib.pyplot as plt\n",
        "import seaborn as sns"
      ]
    },
    {
      "cell_type": "markdown",
      "source": [
        "##Plotting a Vector"
      ],
      "metadata": {
        "id": "_Y_X6110IkFM"
      }
    },
    {
      "cell_type": "code",
      "source": [
        "sns.set()\n",
        "plt.quiver(0,0,4,5, scale_units='xy',angles='xy',scale=1, color='b')\n",
        "plt.quiver(0,0,-4,-5, scale_units='xy',angles='xy',scale=1, color='y')\n",
        "plt.xlim(-8,8)\n",
        "plt.ylim(-8,8)\n",
        "plt.show()"
      ],
      "metadata": {
        "colab": {
          "base_uri": "https://localhost:8080/",
          "height": 440
        },
        "id": "BHo6abOGssDa",
        "outputId": "1b8b567a-00d1-4341-9d11-e445a32ae2cd"
      },
      "execution_count": 49,
      "outputs": [
        {
          "output_type": "display_data",
          "data": {
            "text/plain": [
              "<Figure size 640x480 with 1 Axes>"
            ],
            "image/png": "[encoded data removed]"
          },
          "metadata": {}
        }
      ]
    },
    {
      "cell_type": "markdown",
      "source": [
        "##Addition of 2 Vectors"
      ],
      "metadata": {
        "id": "zyKSUo60uHhd"
      }
    },
    {
      "cell_type": "code",
      "source": [
        "vector_1 = np.asarray([0,0,2,3])\n",
        "vector_2 = np.asarray([0,0,3,-2])\n",
        "\n",
        "sum = vector_1 + vector_2\n",
        "print(sum)"
      ],
      "metadata": {
        "colab": {
          "base_uri": "https://localhost:8080/"
        },
        "id": "WVrlTFgDtP1S",
        "outputId": "2dfd0804-1061-44ad-dbb0-a665dee3311d"
      },
      "execution_count": 50,
      "outputs": [
        {
          "output_type": "stream",
          "name": "stdout",
          "text": [
            "[0 0 5 1]\n"
          ]
        }
      ]
    },
    {
      "cell_type": "markdown",
      "source": [
        "##Dot Product of 2 Vectors"
      ],
      "metadata": {
        "id": "DL2W0vG4yMXD"
      }
    },
    {
      "cell_type": "code",
      "source": [
        "a = np.array([10,10,10])\n",
        "b = np.array([10,10,10])\n",
        "\n",
        "a_dot_b = np.dot(a,b)\n",
        "print(a_dot_b)"
      ],
      "metadata": {
        "colab": {
          "base_uri": "https://localhost:8080/"
        },
        "id": "1y8yTwBovkx-",
        "outputId": "6de5b305-8f70-446c-da19-97a8e68769bc"
      },
      "execution_count": 51,
      "outputs": [
        {
          "output_type": "stream",
          "name": "stdout",
          "text": [
            "300\n"
          ]
        }
      ]
    },
    {
      "cell_type": "markdown",
      "source": [
        "##Cross Product of 2 Vectors"
      ],
      "metadata": {
        "id": "aHsPJWZizLqI"
      }
    },
    {
      "cell_type": "code",
      "source": [
        "a = np.array([10,10,10])\n",
        "b = np.array([10,10,10])\n",
        "\n",
        "a_cross_b = np.cross(a,b)\n",
        "print(a_cross_b)"
      ],
      "metadata": {
        "colab": {
          "base_uri": "https://localhost:8080/"
        },
        "id": "ZhsKyqFcybMk",
        "outputId": "21a60b72-b335-4c3c-82df-447ed9b231a2"
      },
      "execution_count": 52,
      "outputs": [
        {
          "output_type": "stream",
          "name": "stdout",
          "text": [
            "[0 0 0]\n"
          ]
        }
      ]
    },
    {
      "cell_type": "markdown",
      "source": [
        "##Projection of \"a\" vector on \"v\" vector"
      ],
      "metadata": {
        "id": "X-qBFR1szY2l"
      }
    },
    {
      "cell_type": "code",
      "source": [
        "import numpy as np\n",
        "\n",
        "a = np.array([2, 5])\n",
        "v = np.array([8, -6])\n",
        "\n",
        "# Magnitude of \"v\" vector\n",
        "magnitude_of_v = np.linalg.norm(v)\n",
        "\n",
        "# Projection of vector \"a\" onto vector \"v\"\n",
        "proj_of_a_on_v = (np.dot(a, v) / magnitude_of_v**2) * v\n",
        "\n",
        "print('Projection of vector a onto vector v:', proj_of_a_on_v)\n"
      ],
      "metadata": {
        "colab": {
          "base_uri": "https://localhost:8080/"
        },
        "id": "Kh-jW7sdzVun",
        "outputId": "f007f754-bc8f-4d63-887d-fbcfa33799e9"
      },
      "execution_count": 53,
      "outputs": [
        {
          "output_type": "stream",
          "name": "stdout",
          "text": [
            "Projection of vector a onto vector v: [-1.12  0.84]\n"
          ]
        }
      ]
    },
    {
      "cell_type": "markdown",
      "source": [
        "***"
      ],
      "metadata": {
        "id": "dzzBGwR21sC-"
      }
    },
    {
      "cell_type": "markdown",
      "source": [
        "#[2.]Matrix"
      ],
      "metadata": {
        "id": "6s-ISMu3EGvs"
      }
    },
    {
      "cell_type": "markdown",
      "source": [
        "##Creating a matrix"
      ],
      "metadata": {
        "id": "KScF_YsJF5Gc"
      }
    },
    {
      "cell_type": "code",
      "source": [
        "import numpy as np\n",
        "\n",
        "matrix_1 = np.array([[1,1],[2,2],[3,3]])\n",
        "print(matrix_1)\n",
        "print(matrix_1.shape)"
      ],
      "metadata": {
        "colab": {
          "base_uri": "https://localhost:8080/"
        },
        "id": "Nm221Pdw0was",
        "outputId": "d7a1b601-5059-4799-dfdc-f670068b3b92"
      },
      "execution_count": 54,
      "outputs": [
        {
          "output_type": "stream",
          "name": "stdout",
          "text": [
            "[[1 1]\n",
            " [2 2]\n",
            " [3 3]]\n",
            "(3, 2)\n"
          ]
        }
      ]
    },
    {
      "cell_type": "markdown",
      "source": [
        "#Transpose of a matrix"
      ],
      "metadata": {
        "id": "bBo_kFFaGrXp"
      }
    },
    {
      "cell_type": "code",
      "source": [
        "transpose_of_matrix_1 = np.transpose(matrix_1)\n",
        "print(transpose_of_matrix_1)"
      ],
      "metadata": {
        "colab": {
          "base_uri": "https://localhost:8080/"
        },
        "id": "Wxd6moUWGF_N",
        "outputId": "dbf5331f-aa9f-4190-fe1b-5beab0735507"
      },
      "execution_count": 55,
      "outputs": [
        {
          "output_type": "stream",
          "name": "stdout",
          "text": [
            "[[1 2 3]\n",
            " [1 2 3]]\n"
          ]
        }
      ]
    },
    {
      "cell_type": "markdown",
      "source": [
        "##Different types of matrix"
      ],
      "metadata": {
        "id": "mepRD6NpHPMh"
      }
    },
    {
      "cell_type": "code",
      "source": [
        "import numpy as np\n",
        "\n",
        "# 1. Zero matrix\n",
        "zero_matrix = np.zeros((3, 3))\n",
        "print(\"Zero matrix:\")\n",
        "print(zero_matrix)\n",
        "\n",
        "# 2. Identity matrix\n",
        "identity_matrix = np.eye(3)\n",
        "print(\"\\nIdentity matrix:\")\n",
        "print(identity_matrix)\n",
        "\n",
        "# 3. Diagonal matrix\n",
        "diagonal_values = [1, 2, 3]\n",
        "diagonal_matrix = np.diag(diagonal_values)\n",
        "print(\"\\nDiagonal matrix:\")\n",
        "print(diagonal_matrix)\n",
        "\n",
        "# 4. Ones matrix\n",
        "ones_matrix = np.ones((3, 3))\n",
        "print(\"\\nOnes matrix:\")\n",
        "print(ones_matrix)\n",
        "\n",
        "# 5. Random matrix\n",
        "random_matrix = np.random.rand(3, 3)\n",
        "print(\"\\nRandom matrix:\")\n",
        "print(random_matrix)\n",
        "\n",
        "# 6. Symmetric matrix\n",
        "symmetric_matrix = np.array([[1, 2, 3],\n",
        "                             [2, 4, 5],\n",
        "                             [3, 5, 6]])\n",
        "print(\"\\nSymmetric matrix:\")\n",
        "print(symmetric_matrix)\n",
        "\n",
        "# 7. Triangular matrix\n",
        "lower_triangular_matrix = np.tril(np.random.rand(3, 3))\n",
        "upper_triangular_matrix = np.triu(np.random.rand(3, 3))\n",
        "print(\"\\nLower triangular matrix:\")\n",
        "print(lower_triangular_matrix)\n",
        "print(\"\\nUpper triangular matrix:\")\n",
        "print(upper_triangular_matrix)\n"
      ],
      "metadata": {
        "colab": {
          "base_uri": "https://localhost:8080/"
        },
        "id": "BVe5pP14HU02",
        "outputId": "517358ee-ce57-4083-bc6e-5738dd9cc5d4"
      },
      "execution_count": 56,
      "outputs": [
        {
          "output_type": "stream",
          "name": "stdout",
          "text": [
            "Zero matrix:\n",
            "[[0. 0. 0.]\n",
            " [0. 0. 0.]\n",
            " [0. 0. 0.]]\n",
            "\n",
            "Identity matrix:\n",
            "[[1. 0. 0.]\n",
            " [0. 1. 0.]\n",
            " [0. 0. 1.]]\n",
            "\n",
            "Diagonal matrix:\n",
            "[[1 0 0]\n",
            " [0 2 0]\n",
            " [0 0 3]]\n",
            "\n",
            "Ones matrix:\n",
            "[[1. 1. 1.]\n",
            " [1. 1. 1.]\n",
            " [1. 1. 1.]]\n",
            "\n",
            "Random matrix:\n",
            "[[0.40628392 0.05433724 0.73492356]\n",
            " [0.6875037  0.34772564 0.33476406]\n",
            " [0.52921599 0.02854486 0.16342984]]\n",
            "\n",
            "Symmetric matrix:\n",
            "[[1 2 3]\n",
            " [2 4 5]\n",
            " [3 5 6]]\n",
            "\n",
            "Lower triangular matrix:\n",
            "[[0.04338409 0.         0.        ]\n",
            " [0.12420268 0.76965434 0.        ]\n",
            " [0.30586044 0.69183495 0.18133054]]\n",
            "\n",
            "Upper triangular matrix:\n",
            "[[0.71674039 0.1539002  0.35988062]\n",
            " [0.         0.06470402 0.96509357]\n",
            " [0.         0.         0.23806538]]\n"
          ]
        }
      ]
    },
    {
      "cell_type": "markdown",
      "source": [
        "##Operations on Matrices"
      ],
      "metadata": {
        "id": "EgejdQBSLDEt"
      }
    },
    {
      "cell_type": "code",
      "source": [
        "a = np.array([[1, 2], [3, 4]])\n",
        "b = np.array([[5, 6], [7, 8]])\n",
        "\n",
        "print(\"Addition : \",\"\\n\",a+b)\n",
        "print(\"Subtraction : \",\"\\n\",a-b)\n",
        "print(\"Multiplication : \",\"\\n\",a*b)\n",
        "print(\"Dot Product : \",\"\\n\",np.dot(a,b))\n",
        "print(\"Transpose : \",\"\\n\",np.transpose(a))\n",
        "print(\"Inverse : \",\"\\n\",np.linalg.inv(a))"
      ],
      "metadata": {
        "colab": {
          "base_uri": "https://localhost:8080/"
        },
        "id": "dByVf9i1G9ds",
        "outputId": "887c8c45-a80e-42d1-cfe0-c98eb130c15e"
      },
      "execution_count": 68,
      "outputs": [
        {
          "output_type": "stream",
          "name": "stdout",
          "text": [
            "Addition :  \n",
            " [[ 6  8]\n",
            " [10 12]]\n",
            "Subtraction :  \n",
            " [[-4 -4]\n",
            " [-4 -4]]\n",
            "Multiplication :  \n",
            " [[ 5 12]\n",
            " [21 32]]\n",
            "Dot Product :  \n",
            " [[19 22]\n",
            " [43 50]]\n",
            "Transpose :  \n",
            " [[1 3]\n",
            " [2 4]]\n",
            "Inverse :  \n",
            " [[-2.   1. ]\n",
            " [ 1.5 -0.5]]\n"
          ]
        }
      ]
    },
    {
      "cell_type": "markdown",
      "source": [
        "***"
      ],
      "metadata": {
        "id": "Pnbk8ZLZP_Er"
      }
    },
    {
      "cell_type": "markdown",
      "source": [
        "#[3.]Statistics"
      ],
      "metadata": {
        "id": "w9RMblrcQCjQ"
      }
    },
    {
      "cell_type": "markdown",
      "source": [
        "****"
      ],
      "metadata": {
        "id": "Xvu0X6tFsBM5"
      }
    },
    {
      "cell_type": "markdown",
      "source": [
        "#[4.]Probability"
      ],
      "metadata": {
        "id": "G7zmD_OpsD17"
      }
    },
    {
      "cell_type": "code",
      "source": [],
      "metadata": {
        "id": "lEF-LJaVXc1D"
      },
      "execution_count": null,
      "outputs": []
    }
  ]
}