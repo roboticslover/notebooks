{
  "nbformat": 4,
  "nbformat_minor": 0,
  "metadata": {
    "colab": {
      "provenance": []
    },
    "kernelspec": {
      "name": "python3",
      "display_name": "Python 3"
    },
    "language_info": {
      "name": "python"
    }
  },
  "cells": [
    {
      "cell_type": "markdown",
      "source": [
        "****"
      ],
      "metadata": {
        "id": "NJuGNBZbpjdW"
      }
    },
    {
      "cell_type": "markdown",
      "source": [
        "1.Cross_Validation & Hyperparameter_tuning"
      ],
      "metadata": {
        "id": "Uak2Yv51pmHr"
      }
    },
    {
      "cell_type": "markdown",
      "source": [
        "2.Model_Selection"
      ],
      "metadata": {
        "id": "JWZ5teogqAzf"
      }
    },
    {
      "cell_type": "markdown",
      "source": [
        "3.Model_Evaluation(Precision, Recall, Confusion_matrix, F1_score)"
      ],
      "metadata": {
        "id": "uQmrMmFlpuoY"
      }
    },
    {
      "cell_type": "code",
      "source": [
        "from sklearn.datasets import load_iris\n",
        "from sklearn.model_selection import train_test_split, GridSearchCV, cross_val_predict\n",
        "from sklearn.pipeline import Pipeline\n",
        "from sklearn.preprocessing import StandardScaler\n",
        "from sklearn.ensemble import RandomForestClassifier\n",
        "from sklearn.linear_model import LogisticRegression\n",
        "from sklearn.svm import SVC\n",
        "from sklearn.metrics import accuracy_score, precision_score, recall_score, f1_score, confusion_matrix\n",
        "\n",
        "# Step 1: Problem Definition\n",
        "# We'll build a classification model to predict the species of iris flowers based on their sepal and petal dimensions.\n",
        "\n",
        "# Step 2: Data Collection\n",
        "# Load the Iris dataset\n",
        "iris = load_iris()\n",
        "X = iris.data  # Features\n",
        "y = iris.target  # Target\n",
        "\n",
        "# Step 3: Data Preprocessing\n",
        "# No preprocessing required for the Iris dataset as it's already clean and well-formatted.\n",
        "\n",
        "# Step 4: Exploratory Data Analysis (EDA)\n",
        "# No need for EDA in this example, but you could explore the dataset using tools like pandas and matplotlib.\n",
        "\n",
        "# Step 5: Feature Selection\n",
        "# No feature selection needed as the Iris dataset has only four informative features.\n",
        "\n",
        "# Split the data into train and test sets\n",
        "X_train, X_test, y_train, y_test = train_test_split(X, y, test_size=0.2, random_state=42)\n",
        "\n",
        "# Step 6: Model Selection\n",
        "# Define a list of classifiers to consider\n",
        "classifiers = {\n",
        "    'Logistic Regression': LogisticRegression(),\n",
        "    'Random Forest': RandomForestClassifier(),\n",
        "    'SVM': SVC()\n",
        "}\n",
        "\n",
        "# Step 7: Hyperparameter Tuning\n",
        "# Define hyperparameters for grid search for each classifier\n",
        "param_grid = {\n",
        "    'Logistic Regression': {'clf__C': [0.001, 0.01, 0.1, 1, 10, 100]},  # Parameter 'C' for Logistic Regression\n",
        "    'Random Forest': {'clf__n_estimators': [10, 50, 100, 200], 'clf__max_depth': [None, 5, 10, 15, 20]},\n",
        "    'SVM': {'clf__C': [0.1, 1, 10, 100], 'clf__gamma': [0.001, 0.01, 0.1, 1], 'clf__kernel': ['rbf', 'linear']}\n",
        "}\n",
        "\n",
        "# Perform model selection using GridSearchCV\n",
        "best_models = {}\n",
        "for name, clf in classifiers.items():\n",
        "    pipeline = Pipeline([\n",
        "        ('scaler', StandardScaler()),\n",
        "        ('clf', clf)\n",
        "    ])\n",
        "    grid_search = GridSearchCV(pipeline, param_grid[name], cv=5, scoring='accuracy', n_jobs=-1)\n",
        "    grid_search.fit(X_train, y_train)\n",
        "    best_models[name] = grid_search.best_estimator_\n",
        "\n",
        "# Step 8: Model Evaluation\n",
        "# Evaluate the best model with cross-validation\n",
        "for name, model in best_models.items():\n",
        "    y_pred = cross_val_predict(model, X_test, y_test, cv=5)\n",
        "    accuracy = accuracy_score(y_test, y_pred)\n",
        "    precision = precision_score(y_test, y_pred, average='weighted')\n",
        "    recall = recall_score(y_test, y_pred, average='weighted')\n",
        "    f1 = f1_score(y_test, y_pred, average='weighted')\n",
        "    conf_matrix = confusion_matrix(y_test, y_pred)\n",
        "\n",
        "    print(f\"{name} Evaluation Metrics:\")\n",
        "    print(f\"Accuracy: {accuracy:.4f}\")\n",
        "    print(f\"Precision: {precision:.4f}\")\n",
        "    print(f\"Recall: {recall:.4f}\")\n",
        "    print(f\"F1-score: {f1:.4f}\")\n",
        "    print(\"Confusion Matrix:\")\n",
        "    print(conf_matrix)\n",
        "    print()\n",
        "\n",
        "# Step 9: Model Interpretation\n"
      ],
      "metadata": {
        "colab": {
          "base_uri": "https://localhost:8080/"
        },
        "id": "dbM4T54hkzlj",
        "outputId": "a86cd8d1-0a24-4025-f136-6c1d4a75ce9c"
      },
      "execution_count": 13,
      "outputs": [
        {
          "output_type": "stream",
          "name": "stdout",
          "text": [
            "Logistic Regression Evaluation Metrics:\n",
            "Accuracy: 0.9000\n",
            "Precision: 0.9033\n",
            "Recall: 0.9000\n",
            "F1-score: 0.9003\n",
            "Confusion Matrix:\n",
            "[[10  0  0]\n",
            " [ 0  8  1]\n",
            " [ 0  2  9]]\n",
            "\n",
            "Random Forest Evaluation Metrics:\n",
            "Accuracy: 0.9667\n",
            "Precision: 0.9700\n",
            "Recall: 0.9667\n",
            "F1-score: 0.9668\n",
            "Confusion Matrix:\n",
            "[[10  0  0]\n",
            " [ 0  9  0]\n",
            " [ 0  1 10]]\n",
            "\n",
            "SVM Evaluation Metrics:\n",
            "Accuracy: 0.9667\n",
            "Precision: 0.9700\n",
            "Recall: 0.9667\n",
            "F1-score: 0.9668\n",
            "Confusion Matrix:\n",
            "[[10  0  0]\n",
            " [ 0  9  0]\n",
            " [ 0  1 10]]\n",
            "\n"
          ]
        }
      ]
    },
    {
      "cell_type": "code",
      "source": [],
      "metadata": {
        "id": "qwOvMQjMmfZD"
      },
      "execution_count": 13,
      "outputs": []
    }
  ]
}