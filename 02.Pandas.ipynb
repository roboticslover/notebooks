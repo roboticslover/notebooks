{
  "nbformat": 4,
  "nbformat_minor": 0,
  "metadata": {
    "colab": {
      "provenance": []
    },
    "kernelspec": {
      "name": "python3",
      "display_name": "Python 3"
    },
    "language_info": {
      "name": "python"
    }
  },
  "cells": [
    {
      "cell_type": "markdown",
      "source": [
        "****"
      ],
      "metadata": {
        "id": "VccCOQjdA2RY"
      }
    },
    {
      "cell_type": "markdown",
      "source": [
        "Importing the libraries"
      ],
      "metadata": {
        "id": "Cliv5QHpA4LL"
      }
    },
    {
      "cell_type": "code",
      "execution_count": null,
      "metadata": {
        "id": "H9aO9RHF_W9u"
      },
      "outputs": [],
      "source": [
        "import pandas as pd\n",
        "import numpy as np"
      ]
    },
    {
      "cell_type": "markdown",
      "source": [
        "****"
      ],
      "metadata": {
        "id": "BSc9_CCmBIfM"
      }
    },
    {
      "cell_type": "markdown",
      "source": [
        "Importing the data from a CSV file to a pandas DataFrame"
      ],
      "metadata": {
        "id": "432A_d7eQA0H"
      }
    },
    {
      "cell_type": "code",
      "source": [
        "#csv file to pandas df\n",
        "diabetes_df=pd.read_csv('/content/diabetes.csv')"
      ],
      "metadata": {
        "id": "LHX-kA-wP1QG"
      },
      "execution_count": null,
      "outputs": []
    },
    {
      "cell_type": "markdown",
      "source": [
        "****"
      ],
      "metadata": {
        "id": "32OpMhwkBLCi"
      }
    },
    {
      "cell_type": "markdown",
      "source": [
        "Creating a Pandas DataFrame"
      ],
      "metadata": {
        "id": "RH2xkdEqMoVD"
      }
    },
    {
      "cell_type": "code",
      "source": [
        "#importing the boston house price data\n",
        "from sklearn.datasets import fetch_california_housing\n",
        "housing = fetch_california_housing()\n",
        "\n",
        "#pandas DataFrame\n",
        "df=pd.DataFrame(housing.data,columns=housing.feature_names)\n",
        "print(df.shape)\n",
        "print(type(df))\n",
        "df.head()"
      ],
      "metadata": {
        "id": "FXtNGaBOMm65"
      },
      "execution_count": null,
      "outputs": []
    },
    {
      "cell_type": "markdown",
      "source": [
        "****"
      ],
      "metadata": {
        "id": "emtzT1quBi8s"
      }
    },
    {
      "cell_type": "markdown",
      "source": [
        "Exporting to a Dataframe to a CSV File"
      ],
      "metadata": {
        "id": "htqcJIXQTWQK"
      }
    },
    {
      "cell_type": "code",
      "source": [
        "df.to_csv('California.csv')"
      ],
      "metadata": {
        "id": "VDSBUMCNTR2H"
      },
      "execution_count": null,
      "outputs": []
    },
    {
      "cell_type": "markdown",
      "source": [
        "****"
      ],
      "metadata": {
        "id": "Tbgz-e45BlDe"
      }
    },
    {
      "cell_type": "markdown",
      "source": [
        "Creating a Dataframe with random values"
      ],
      "metadata": {
        "id": "2F2NcvvRB9pg"
      }
    },
    {
      "cell_type": "code",
      "source": [
        "random_df=pd.DataFrame(np.random.rand(20,10))\n",
        "print(random_df.shape)\n",
        "random_df.head()"
      ],
      "metadata": {
        "id": "70tnR0IGTvJm"
      },
      "execution_count": null,
      "outputs": []
    },
    {
      "cell_type": "markdown",
      "source": [
        "****"
      ],
      "metadata": {
        "id": "2ywqMwSWCBl1"
      }
    },
    {
      "cell_type": "markdown",
      "source": [
        "Inspecting a DataFrame"
      ],
      "metadata": {
        "id": "PPDttDYJVVlQ"
      }
    },
    {
      "cell_type": "code",
      "source": [
        "#finding the number of rows & columns\n",
        "df.shape"
      ],
      "metadata": {
        "id": "QnD74Z-OVPOi"
      },
      "execution_count": null,
      "outputs": []
    },
    {
      "cell_type": "code",
      "source": [
        "#first 5 rows in a DataFrame\n",
        "df.head()"
      ],
      "metadata": {
        "id": "YZEsQmw3N-dt"
      },
      "execution_count": null,
      "outputs": []
    },
    {
      "cell_type": "code",
      "source": [
        "#last 5 rows of the DataFrame\n",
        "df.tail()"
      ],
      "metadata": {
        "id": "1e0JNF5cOnZ0"
      },
      "execution_count": null,
      "outputs": []
    },
    {
      "cell_type": "code",
      "source": [
        "#Information about the DataFrame\n",
        "df.info()"
      ],
      "metadata": {
        "id": "MysLv7MWPAp2"
      },
      "execution_count": null,
      "outputs": []
    },
    {
      "cell_type": "code",
      "source": [
        "#Finding the number of missing values\n",
        "df.isnull().sum()"
      ],
      "metadata": {
        "id": "G9P97sqlPUNM"
      },
      "execution_count": null,
      "outputs": []
    },
    {
      "cell_type": "code",
      "source": [
        "#counting the values based on the labels\n",
        "df.value_counts('Population')"
      ],
      "metadata": {
        "id": "vocr0j4mQVS4"
      },
      "execution_count": null,
      "outputs": []
    },
    {
      "cell_type": "code",
      "source": [
        "#group the values based on the mean\n",
        "df.groupby('Population').mean()"
      ],
      "metadata": {
        "id": "j6BGWz2lSEKd"
      },
      "execution_count": null,
      "outputs": []
    },
    {
      "cell_type": "markdown",
      "source": [
        "****"
      ],
      "metadata": {
        "id": "AtQhhE5DCVr0"
      }
    },
    {
      "cell_type": "markdown",
      "source": [
        "Statistical Measures"
      ],
      "metadata": {
        "id": "HBbGqLw0S1ZM"
      }
    },
    {
      "cell_type": "code",
      "source": [
        "#count or number of values\n",
        "df.count()"
      ],
      "metadata": {
        "id": "R-AEcYx0Skxa"
      },
      "execution_count": null,
      "outputs": []
    },
    {
      "cell_type": "code",
      "source": [
        "#mean value - column wise\n",
        "df.mean()"
      ],
      "metadata": {
        "id": "Dw92vr_mTOIs"
      },
      "execution_count": null,
      "outputs": []
    },
    {
      "cell_type": "code",
      "source": [
        "# standard deviation - column wise\n",
        "df.std()"
      ],
      "metadata": {
        "id": "-53Ih8WDUI7C"
      },
      "execution_count": null,
      "outputs": []
    },
    {
      "cell_type": "code",
      "source": [
        "#minimum value\n",
        "df.min()"
      ],
      "metadata": {
        "id": "lYu32A_cUSw6"
      },
      "execution_count": null,
      "outputs": []
    },
    {
      "cell_type": "code",
      "source": [
        "#maximum value\n",
        "df.max()"
      ],
      "metadata": {
        "id": "LFFIE7bQUgKW"
      },
      "execution_count": null,
      "outputs": []
    },
    {
      "cell_type": "code",
      "source": [
        "#all the statistical measures about the dataframe\n",
        "df.describe()"
      ],
      "metadata": {
        "id": "mZ5YAuz_Unsv"
      },
      "execution_count": null,
      "outputs": []
    },
    {
      "cell_type": "markdown",
      "source": [
        "****"
      ],
      "metadata": {
        "id": "SiOXilgxDH53"
      }
    },
    {
      "cell_type": "markdown",
      "source": [
        "Manipulating a DataFrame"
      ],
      "metadata": {
        "id": "vb1LtzRzVOOQ"
      }
    },
    {
      "cell_type": "code",
      "source": [
        "#adding a colmn to a DataFrame\n",
        "df['Price']=housing.target\n",
        "df.head()"
      ],
      "metadata": {
        "id": "F2iZW3fqU9t0"
      },
      "execution_count": null,
      "outputs": []
    },
    {
      "cell_type": "code",
      "source": [
        "#drop a row\n",
        "df.drop(index=0,axis=0)"
      ],
      "metadata": {
        "id": "2PV0YXQ6iidB"
      },
      "execution_count": null,
      "outputs": []
    },
    {
      "cell_type": "code",
      "source": [
        "#drop a column\n",
        "df.drop(columns='AveBedrms',axis=1)"
      ],
      "metadata": {
        "id": "2VwhS-B3jm0U"
      },
      "execution_count": null,
      "outputs": []
    },
    {
      "cell_type": "code",
      "source": [
        "#locating a row using the index value\n",
        "df.iloc[2]"
      ],
      "metadata": {
        "id": "uCQCPqMYkL-0"
      },
      "execution_count": null,
      "outputs": []
    },
    {
      "cell_type": "code",
      "source": [
        "#locating a particular column\n",
        "df.iloc[:,-1]#last column"
      ],
      "metadata": {
        "id": "FlfbcHSVkl5J"
      },
      "execution_count": null,
      "outputs": []
    },
    {
      "cell_type": "markdown",
      "source": [
        "****"
      ],
      "metadata": {
        "id": "WPryrudVdvP6"
      }
    },
    {
      "cell_type": "markdown",
      "source": [
        "Correlation"
      ],
      "metadata": {
        "id": "5JFIlK7llkz-"
      }
    },
    {
      "cell_type": "code",
      "source": [
        "df.corr()"
      ],
      "metadata": {
        "id": "Q6ytfvQaleAH"
      },
      "execution_count": null,
      "outputs": []
    },
    {
      "cell_type": "code",
      "source": [],
      "metadata": {
        "id": "x8cb-Ry0d2zc"
      },
      "execution_count": null,
      "outputs": []
    }
  ]
}