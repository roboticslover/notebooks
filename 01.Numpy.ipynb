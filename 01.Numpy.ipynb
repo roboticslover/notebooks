{
  "nbformat": 4,
  "nbformat_minor": 0,
  "metadata": {
    "colab": {
      "provenance": []
    },
    "kernelspec": {
      "name": "python3",
      "display_name": "Python 3"
    },
    "language_info": {
      "name": "python"
    }
  },
  "cells": [
    {
      "cell_type": "markdown",
      "source": [
        "****"
      ],
      "metadata": {
        "id": "UXDJa6mkCVA_"
      }
    },
    {
      "cell_type": "markdown",
      "source": [
        "Importing Numpy"
      ],
      "metadata": {
        "id": "05-bF6xXCSTu"
      }
    },
    {
      "cell_type": "code",
      "source": [
        "import numpy as np"
      ],
      "metadata": {
        "id": "Au_mjecYuzQ3"
      },
      "execution_count": null,
      "outputs": []
    },
    {
      "cell_type": "markdown",
      "source": [
        "****"
      ],
      "metadata": {
        "id": "K90BvOahCWvL"
      }
    },
    {
      "cell_type": "markdown",
      "source": [
        "List vs Numpy - Time Taken"
      ],
      "metadata": {
        "id": "gpWtZOwcvH4X"
      }
    },
    {
      "cell_type": "code",
      "source": [
        "import numpy as np\n",
        "from time import process_time\n",
        "\n",
        "start_time_1 = process_time()\n",
        "python_list = [i*i for i in range(100000)]\n",
        "end_time_1 = process_time()\n",
        "print('Time taken by list:', end_time_1 - start_time_1)\n",
        "\n",
        "start_time_2 = process_time()\n",
        "np_array = np.array([i*i for i in range(100000)])\n",
        "end_time_2 = process_time()\n",
        "print('Time taken by NumPy array:', end_time_2 - start_time_2)\n"
      ],
      "metadata": {
        "colab": {
          "base_uri": "https://localhost:8080/"
        },
        "id": "WAalEWrtCZUu",
        "outputId": "bfb766b1-972e-4221-9dab-6d99ed6be069"
      },
      "execution_count": null,
      "outputs": [
        {
          "output_type": "stream",
          "name": "stdout",
          "text": [
            "Time taken by list: 0.014443310999999959\n",
            "Time taken by NumPy array: 0.03830095300000025\n"
          ]
        }
      ]
    },
    {
      "cell_type": "markdown",
      "source": [
        "****"
      ],
      "metadata": {
        "id": "GOMUzPKLChYS"
      }
    },
    {
      "cell_type": "markdown",
      "source": [
        "Numpy Array\n"
      ],
      "metadata": {
        "id": "fyGZOgF7yHAX"
      }
    },
    {
      "cell_type": "code",
      "source": [
        "list1=[1,2,3,4,5]\n",
        "print(list1,type(list1))\n",
        "\n",
        "np_array=np.array([1,2,3,4,5])\n",
        "print(np_array,type(np_array))"
      ],
      "metadata": {
        "colab": {
          "base_uri": "https://localhost:8080/"
        },
        "id": "8yly3LozGSM1",
        "outputId": "b9bc3501-08c2-4d81-ebd8-d3bf68ae2840"
      },
      "execution_count": null,
      "outputs": [
        {
          "output_type": "stream",
          "name": "stdout",
          "text": [
            "[1, 2, 3, 4, 5] <class 'list'>\n",
            "[1 2 3 4 5] <class 'numpy.ndarray'>\n"
          ]
        }
      ]
    },
    {
      "cell_type": "code",
      "source": [
        "#creating a One-dimensional array\n",
        "a=np.array([1,2,3,4])\n",
        "print(a)\n",
        "print(a.shape)\n",
        "\n",
        "#creating a Multi-dimensional array\n",
        "b=np.array([(1,2,3,4),(5,6,7,8)])\n",
        "print(b)\n",
        "print(b.shape)\n",
        "\n",
        "#creating a Multi-dimensional array with floating data-type\n",
        "c=np.array([(1,2,3,4),(5,6,7,8)],dtype=float)\n",
        "print(c)\n",
        "print(c.shape)"
      ],
      "metadata": {
        "colab": {
          "base_uri": "https://localhost:8080/"
        },
        "id": "Xl4WasDNGZ1f",
        "outputId": "5f96d02a-ba8e-4bc2-a7bc-7b7691f0b18e"
      },
      "execution_count": null,
      "outputs": [
        {
          "output_type": "stream",
          "name": "stdout",
          "text": [
            "[1 2 3 4]\n",
            "(4,)\n",
            "[[1 2 3 4]\n",
            " [5 6 7 8]]\n",
            "(2, 4)\n",
            "[[1. 2. 3. 4.]\n",
            " [5. 6. 7. 8.]]\n",
            "(2, 4)\n"
          ]
        }
      ]
    },
    {
      "cell_type": "markdown",
      "source": [
        "****"
      ],
      "metadata": {
        "id": "Arglh8IGDAYj"
      }
    },
    {
      "cell_type": "markdown",
      "source": [
        "Initial Placeholders in numpy arrays"
      ],
      "metadata": {
        "id": "-0VIdLQD1HFD"
      }
    },
    {
      "cell_type": "code",
      "source": [
        "#Create a numpy array of zeros\n",
        "a=np.zeros((2,2))\n",
        "print(a)\n",
        "\n",
        "#Create a numpy array of ones\n",
        "b=np.ones((2,2))\n",
        "print(b)\n",
        "\n",
        "#Create a numpy array of particular value\n",
        "c=np.full((2,2),7)\n",
        "print(c)\n",
        "\n",
        "#Create an Identity matrix\n",
        "d=np.eye(2)\n",
        "print(d)"
      ],
      "metadata": {
        "colab": {
          "base_uri": "https://localhost:8080/"
        },
        "id": "6SCDkj0x0FQu",
        "outputId": "a852066d-b340-4e2f-dd14-39d78c3aebe6"
      },
      "execution_count": null,
      "outputs": [
        {
          "output_type": "stream",
          "name": "stdout",
          "text": [
            "[[0. 0.]\n",
            " [0. 0.]]\n",
            "[[1. 1.]\n",
            " [1. 1.]]\n",
            "[[7 7]\n",
            " [7 7]]\n",
            "[[1. 0.]\n",
            " [0. 1.]]\n"
          ]
        }
      ]
    },
    {
      "cell_type": "code",
      "source": [
        "#Create a numpy array with Random values\n",
        "a = np.random.random((2,2))\n",
        "print(a)\n",
        "\n",
        "#Create a numpy array with Random integer values\n",
        "b = np.random.randint(1,100,(2,2))\n",
        "print(b)"
      ],
      "metadata": {
        "colab": {
          "base_uri": "https://localhost:8080/"
        },
        "id": "WPSDhZ0h2JOJ",
        "outputId": "651d7519-0a58-4a3b-d7e5-d458b289262f"
      },
      "execution_count": null,
      "outputs": [
        {
          "output_type": "stream",
          "name": "stdout",
          "text": [
            "[[0.64620086 0.09079216]\n",
            " [0.67338187 0.36661892]]\n",
            "[[22 20]\n",
            " [59 37]]\n"
          ]
        }
      ]
    },
    {
      "cell_type": "code",
      "source": [
        "#array of evenly spaced values --> specifying the number of values required\n",
        "a = np.linspace(10,30,6)\n",
        "print(a)\n",
        "\n",
        "#array of evenly spaced values --> specifying the steps\n",
        "b = np.arange(10,30,6)\n",
        "print(b)"
      ],
      "metadata": {
        "colab": {
          "base_uri": "https://localhost:8080/"
        },
        "id": "Ts9mfFM-3GrP",
        "outputId": "afeede56-db2e-417c-9256-1175a90113c8"
      },
      "execution_count": null,
      "outputs": [
        {
          "output_type": "stream",
          "name": "stdout",
          "text": [
            "[10. 14. 18. 22. 26. 30.]\n",
            "[10 16 22 28]\n"
          ]
        }
      ]
    },
    {
      "cell_type": "code",
      "source": [
        "# Convert a list to a numpy array\n",
        "a = [10,20,30,40,50]\n",
        "b = (60,70,80,90,100)\n",
        "\n",
        "np_array1 = np.asarray(a)\n",
        "print(np_array1,type(np_array1))\n",
        "\n",
        "np_array2 = np.asarray(b)\n",
        "print(np_array2,type(np_array2))"
      ],
      "metadata": {
        "colab": {
          "base_uri": "https://localhost:8080/"
        },
        "id": "cdumvu7333yq",
        "outputId": "fc8cd4a6-166e-4010-ccf4-07de468ccc9d"
      },
      "execution_count": null,
      "outputs": [
        {
          "output_type": "stream",
          "name": "stdout",
          "text": [
            "[10 20 30 40 50] <class 'numpy.ndarray'>\n",
            "[ 60  70  80  90 100] <class 'numpy.ndarray'>\n"
          ]
        }
      ]
    },
    {
      "cell_type": "markdown",
      "source": [
        "****"
      ],
      "metadata": {
        "id": "DH48nr8ZDCpW"
      }
    },
    {
      "cell_type": "markdown",
      "source": [
        "Analysing a numpy array"
      ],
      "metadata": {
        "id": "sm4Ms5Ny5Opm"
      }
    },
    {
      "cell_type": "code",
      "source": [
        "a=np.random.randint(1,10,(2,2))\n",
        "print(a)\n",
        "print(type(a))\n",
        "print(a.ndim)\n",
        "print(a.size)\n",
        "print(a.dtype)"
      ],
      "metadata": {
        "colab": {
          "base_uri": "https://localhost:8080/"
        },
        "id": "uHxsn0_u4yQr",
        "outputId": "056efdd9-baaa-4fb5-fb96-e323941e044f"
      },
      "execution_count": null,
      "outputs": [
        {
          "output_type": "stream",
          "name": "stdout",
          "text": [
            "[[8 4]\n",
            " [8 1]]\n",
            "<class 'numpy.ndarray'>\n",
            "2\n",
            "4\n",
            "int64\n"
          ]
        }
      ]
    },
    {
      "cell_type": "markdown",
      "source": [
        "****"
      ],
      "metadata": {
        "id": "zzEnVYQWDG1t"
      }
    },
    {
      "cell_type": "markdown",
      "source": [
        "Mathematcal operations on a np array"
      ],
      "metadata": {
        "id": "fWjyKdX_6fX9"
      }
    },
    {
      "cell_type": "code",
      "source": [
        "a=np.random.randint(0,10,(3,3))\n",
        "b=np.random.randint(10,20,(3,3))\n",
        "\n",
        "print(np.add(a,b))\n",
        "print(np.subtract(a,b))\n",
        "print(np.multiply(a,b))\n",
        "print(np.divide(a,b))"
      ],
      "metadata": {
        "colab": {
          "base_uri": "https://localhost:8080/"
        },
        "id": "EOy_l8CB6sTU",
        "outputId": "5f325b27-a423-4ffa-81e3-1da248a804d3"
      },
      "execution_count": null,
      "outputs": [
        {
          "output_type": "stream",
          "name": "stdout",
          "text": [
            "[[23 22 18]\n",
            " [19 23 21]\n",
            " [28 13 22]]\n",
            "[[ -5 -16  -4]\n",
            " [-17  -5  -5]\n",
            " [-10  -7 -12]]\n",
            "[[126  57  77]\n",
            " [ 18 126 104]\n",
            " [171  30  85]]\n",
            "[[0.64285714 0.15789474 0.63636364]\n",
            " [0.05555556 0.64285714 0.61538462]\n",
            " [0.47368421 0.3        0.29411765]]\n"
          ]
        }
      ]
    },
    {
      "cell_type": "markdown",
      "source": [
        "****"
      ],
      "metadata": {
        "id": "orbhVhqYDJZ6"
      }
    },
    {
      "cell_type": "markdown",
      "source": [
        "Array Manipulation"
      ],
      "metadata": {
        "id": "Ti4e_yAZ8JGU"
      }
    },
    {
      "cell_type": "code",
      "source": [
        "array=np.random.randint(0,10,(2,3))\n",
        "print(array)\n",
        "\n",
        "#transpose\n",
        "a=np.transpose(array)\n",
        "print(a)\n",
        "\n",
        "#reshape\n",
        "b=array.reshape(3,2)\n",
        "print(b)"
      ],
      "metadata": {
        "colab": {
          "base_uri": "https://localhost:8080/"
        },
        "id": "PFTsIDGV70pF",
        "outputId": "cbf2d970-a856-4fe2-d526-8f10402f3f6b"
      },
      "execution_count": null,
      "outputs": [
        {
          "output_type": "stream",
          "name": "stdout",
          "text": [
            "[[3 5 6]\n",
            " [8 0 6]]\n",
            "[[3 8]\n",
            " [5 0]\n",
            " [6 6]]\n",
            "[[3 5]\n",
            " [6 8]\n",
            " [0 6]]\n"
          ]
        }
      ]
    },
    {
      "cell_type": "code",
      "source": [],
      "metadata": {
        "id": "Emyh_PHj9wBO"
      },
      "execution_count": null,
      "outputs": []
    }
  ]
}