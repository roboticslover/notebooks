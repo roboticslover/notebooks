{
  "nbformat": 4,
  "nbformat_minor": 0,
  "metadata": {
    "colab": {
      "provenance": []
    },
    "kernelspec": {
      "name": "python3",
      "display_name": "Python 3"
    },
    "language_info": {
      "name": "python"
    }
  },
  "cells": [
    {
      "cell_type": "markdown",
      "source": [
        "***"
      ],
      "metadata": {
        "id": "StfEux000Brs"
      }
    },
    {
      "cell_type": "markdown",
      "source": [
        "#[1.]ML Models"
      ],
      "metadata": {
        "id": "_gLXU-0e0DIF"
      }
    },
    {
      "cell_type": "markdown",
      "source": [
        "***"
      ],
      "metadata": {
        "id": "TAomGT_M0HPw"
      }
    },
    {
      "cell_type": "markdown",
      "source": [
        "#[2.]Supervised Learning Models"
      ],
      "metadata": {
        "id": "S3NoiyMc0JST"
      }
    },
    {
      "cell_type": "markdown",
      "source": [
        "***"
      ],
      "metadata": {
        "id": "3sY_WHvr0VYC"
      }
    },
    {
      "cell_type": "markdown",
      "source": [
        "#[3.]Unsupervised Learning Models"
      ],
      "metadata": {
        "id": "v6VOr_LA0XA_"
      }
    },
    {
      "cell_type": "markdown",
      "source": [
        "***"
      ],
      "metadata": {
        "id": "xVlsqdP20bCM"
      }
    },
    {
      "cell_type": "markdown",
      "source": [
        "#[4.]Model Selection & Cross Validation"
      ],
      "metadata": {
        "id": "DjgBZ0yQ5SFU"
      }
    },
    {
      "cell_type": "code",
      "execution_count": null,
      "metadata": {
        "colab": {
          "base_uri": "https://localhost:8080/"
        },
        "id": "avilSFhdzfLx",
        "outputId": "68fbabd7-d591-41e7-9dd6-a08d31e51a98"
      },
      "outputs": [
        {
          "output_type": "stream",
          "name": "stdout",
          "text": [
            "Cross-validation scores: [0.42955615 0.52259939 0.48268054 0.42649776 0.55024834]\n",
            "Mean CV score: 0.48231643590864215\n",
            "Standard deviation of CV scores: 0.04926857751190387\n"
          ]
        }
      ],
      "source": [
        "from sklearn.datasets import load_diabetes\n",
        "from sklearn.model_selection import cross_val_score\n",
        "from sklearn.linear_model import LinearRegression\n",
        "\n",
        "# Load the diabetes dataset\n",
        "diabetes = load_diabetes()\n",
        "X = diabetes.data  # Features\n",
        "y = diabetes.target  # Target variable\n",
        "\n",
        "# Create a Linear Regression model\n",
        "model = LinearRegression()\n",
        "\n",
        "# Perform 5-fold cross-validation\n",
        "scores = cross_val_score(model, X, y, cv=5)\n",
        "\n",
        "# Print cross-validation scores\n",
        "print(\"Cross-validation scores:\", scores)\n",
        "print(\"Mean CV score:\", scores.mean())\n",
        "print(\"Standard deviation of CV scores:\", scores.std())\n"
      ]
    },
    {
      "cell_type": "markdown",
      "source": [
        "***"
      ],
      "metadata": {
        "id": "k5GNmeVN5xMe"
      }
    },
    {
      "cell_type": "markdown",
      "source": [
        "#[5.]Overfitting"
      ],
      "metadata": {
        "id": "S6kxDKcn6QTi"
      }
    },
    {
      "cell_type": "markdown",
      "source": [
        "***"
      ],
      "metadata": {
        "id": "FVojO7A46TsZ"
      }
    },
    {
      "cell_type": "markdown",
      "source": [
        "#[6.]Underfitting"
      ],
      "metadata": {
        "id": "QFwFzGWi6VPD"
      }
    },
    {
      "cell_type": "markdown",
      "source": [
        "***"
      ],
      "metadata": {
        "id": "h7qOTXwX9kbB"
      }
    },
    {
      "cell_type": "markdown",
      "source": [
        "#[7.]Bias-Variance Tradeoff"
      ],
      "metadata": {
        "id": "vgpMoU7m9mDv"
      }
    },
    {
      "cell_type": "markdown",
      "source": [
        "***"
      ],
      "metadata": {
        "id": "Gtq-VjwKX6Jl"
      }
    },
    {
      "cell_type": "markdown",
      "source": [
        "#[8.]Loss Function"
      ],
      "metadata": {
        "id": "LWAg5h4HX7u2"
      }
    },
    {
      "cell_type": "markdown",
      "source": [
        "***"
      ],
      "metadata": {
        "id": "uPXwZQOnYA45"
      }
    },
    {
      "cell_type": "markdown",
      "source": [
        "#[9.]Model Evaluation"
      ],
      "metadata": {
        "id": "clcVYtZhYCD6"
      }
    },
    {
      "cell_type": "markdown",
      "source": [
        "***"
      ],
      "metadata": {
        "id": "cKWl781jYItZ"
      }
    },
    {
      "cell_type": "markdown",
      "source": [
        "#[10.]Model Parameters & Hyperparameters"
      ],
      "metadata": {
        "id": "2u8LzQ_SYJvp"
      }
    },
    {
      "cell_type": "markdown",
      "source": [
        "***"
      ],
      "metadata": {
        "id": "jKDjXt2Phw5v"
      }
    },
    {
      "cell_type": "markdown",
      "source": [
        "#[11.]Gradient Descent"
      ],
      "metadata": {
        "id": "l0hwqyc7hy-K"
      }
    },
    {
      "cell_type": "code",
      "source": [],
      "metadata": {
        "id": "YfCUdnBu5te5"
      },
      "execution_count": null,
      "outputs": []
    }
  ]
}